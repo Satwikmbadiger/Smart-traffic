{
 "cells": [
  {
   "cell_type": "code",
   "execution_count": null,
   "metadata": {},
   "outputs": [],
   "source": [
    "#imports\n",
    "\n",
    "import pandas as pd\n",
    "import numpy as np\n",
    "import matplotlib.pyplot as plt"
   ]
  },
  {
   "cell_type": "code",
   "execution_count": null,
   "metadata": {},
   "outputs": [],
   "source": [
    "#data preperation\n",
    "\n",
    "np.random.seed(0)\n",
    "n_hours = 24\n",
    "time_index = pd.date_range('2024-11-01', periods=n_hours, freq='h')\n",
    "\n",
    "vehicle_type = ['car', 'bike', 'auto', 'bus', 'truck']\n",
    "base_vol = 100\n",
    "\n",
    "seasonal_variation = 20 * np.sin(np.linspace(0, 3 * np.pi, n_hours))\n",
    "noise = np.random.normal(0, 5, n_hours)"
   ]
  },
  {
   "cell_type": "code",
   "execution_count": null,
   "metadata": {},
   "outputs": [],
   "source": [
    "#dataset\n",
    "\n",
    "traffic_data = pd.DataFrame(index=time_index)\n",
    "\n",
    "for vehicle in vehicle_type:\n",
    "    vehicle_vol = (base_vol + seasonal_variation + noise + np.random.normal(0, 10, n_hours))\n",
    "    vehicle_vol = np.maximum(vehicle_vol, 0)\n",
    "\n",
    "    traffic_data[vehicle] = vehicle_vol\n",
    "\n",
    "print(traffic_data.head())"
   ]
  },
  {
   "cell_type": "code",
   "execution_count": null,
   "metadata": {},
   "outputs": [],
   "source": [
    "#visualization\n",
    "\n",
    "plt.figure(figsize=(12, 6))\n",
    "for vehicle in vehicle_type:\n",
    "    plt.plot(traffic_data.index, traffic_data[vehicle], label=vehicle)\n",
    "\n",
    "plt.title('Traffic Volume Over Time')\n",
    "plt.xlabel('Time')\n",
    "plt.ylabel('Volume')\n",
    "plt.legend()\n",
    "plt.grid()\n",
    "plt.show()"
   ]
  },
  {
   "cell_type": "code",
   "execution_count": null,
   "metadata": {},
   "outputs": [],
   "source": [
    "#save dataset\n",
    "\n",
    "traffic_data.to_csv('traffic_data.csv')"
   ]
  }
 ],
 "metadata": {
  "kernelspec": {
   "display_name": ".venv",
   "language": "python",
   "name": "python3"
  },
  "language_info": {
   "codemirror_mode": {
    "name": "ipython",
    "version": 3
   },
   "file_extension": ".py",
   "mimetype": "text/x-python",
   "name": "python",
   "nbconvert_exporter": "python",
   "pygments_lexer": "ipython3",
   "version": "3.10.0"
  }
 },
 "nbformat": 4,
 "nbformat_minor": 2
}
